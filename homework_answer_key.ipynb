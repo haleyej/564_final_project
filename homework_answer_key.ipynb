{
 "cells": [
  {
   "cell_type": "markdown",
   "id": "nearby-cement",
   "metadata": {},
   "source": [
    "<h1>SI 564 Final Project: Trails in U.S. National Parks</h1>\n",
    "<p>Haley Johnson</p>\n",
    "\n",
    "<p>Solution key to homework assignment. I used starter code from <a href = \"https://gist.github.com/mlhess/be7841fda8baba5645f6aad807b50083\">here</a> to connect to SQL</p>"
   ]
  },
  {
   "cell_type": "code",
   "execution_count": 8,
   "id": "informational-reducing",
   "metadata": {},
   "outputs": [],
   "source": [
    "import os\n",
    "import pymysql\n",
    "import pandas as pd"
   ]
  },
  {
   "cell_type": "code",
   "execution_count": null,
   "id": "abroad-ottawa",
   "metadata": {},
   "outputs": [],
   "source": [
    "con = pymysql.connect(host='34.134.16.183', port=X,user=X,password=X,database=X,cursorclass=pymysql.cursors.DictCursor)  #replace X with your information from canvas.  Please note, some fields will need quotes. \n",
    "cur = con.cursor()"
   ]
  },
  {
   "cell_type": "code",
   "execution_count": null,
   "id": "military-probe",
   "metadata": {},
   "outputs": [],
   "source": [
    "cur.execute(\"SELECT QUERY HERE\")\n",
    "for row in cur:"
   ]
  }
 ],
 "metadata": {
  "kernelspec": {
   "display_name": "Python 3",
   "language": "python",
   "name": "python3"
  },
  "language_info": {
   "codemirror_mode": {
    "name": "ipython",
    "version": 3
   },
   "file_extension": ".py",
   "mimetype": "text/x-python",
   "name": "python",
   "nbconvert_exporter": "python",
   "pygments_lexer": "ipython3",
   "version": "3.8.3"
  }
 },
 "nbformat": 4,
 "nbformat_minor": 5
}
