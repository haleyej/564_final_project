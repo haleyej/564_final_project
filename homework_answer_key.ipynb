{
 "cells": [
  {
   "cell_type": "markdown",
   "id": "promotional-region",
   "metadata": {},
   "source": [
    "<h1>SI 564 Final Project: Trails in U.S. National Parks</h1>\n",
    "<p>Haley Johnson</p>\n",
    "\n",
    "<p>Solution key to homework assignment. I used starter code from <a href = \"https://gist.github.com/mlhess/be7841fda8baba5645f6aad807b50083\">here</a> to connect to SQL</p>"
   ]
  },
  {
   "cell_type": "code",
   "execution_count": 1,
   "id": "cardiovascular-effort",
   "metadata": {},
   "outputs": [],
   "source": [
    "import os\n",
    "import pymysql\n",
    "import pandas as pd"
   ]
  },
  {
   "cell_type": "code",
   "execution_count": 51,
   "id": "twenty-collaboration",
   "metadata": {},
   "outputs": [],
   "source": [
    "con = pymysql.connect(host='34.134.16.183', port=14192,user='haleyej-ro',password=p,database='nat_parks',cursorclass=pymysql.cursors.DictCursor)  \n",
    "cur = con.cursor()"
   ]
  },
  {
   "cell_type": "markdown",
   "id": "unable-sheffield",
   "metadata": {},
   "source": [
    "<h4>Question 1</h4>\n",
    "<p>What national park has the longest trail length, on average?</p>"
   ]
  },
  {
   "cell_type": "code",
   "execution_count": 3,
   "id": "hungry-surveillance",
   "metadata": {},
   "outputs": [
    {
     "name": "stdout",
     "output_type": "stream",
     "text": [
      "Kings Canyon 38162.46\n"
     ]
    }
   ],
   "source": [
    "cur.execute('''SELECT p.park, round(avg(t.length), 2) as average_length\n",
    "               FROM trails t\n",
    "               JOIN parks p \n",
    "               ON t.park_id = p.id\n",
    "               GROUP BY p.park\n",
    "               ORDER BY avg(t.length) DESC\n",
    "               LIMIT 1;''')\n",
    "for row in cur:\n",
    "    print(row['park'], row['average_length'])"
   ]
  },
  {
   "cell_type": "markdown",
   "id": "grave-musician",
   "metadata": {},
   "source": [
    "<h4>Question 2</h4>\n",
    "<p>What is the average elevation gain of trails that are in national parks where ‘Mountain,’ ‘Mt.’ or any variation of Mountain is in the park's name? </p>"
   ]
  },
  {
   "cell_type": "code",
   "execution_count": 4,
   "id": "outstanding-flavor",
   "metadata": {},
   "outputs": [
    {
     "name": "stdout",
     "output_type": "stream",
     "text": [
      "Great Smoky Mountains 848.22\n",
      "Guadalupe Mountains 735.5\n",
      "Rocky Mountain 590.13\n"
     ]
    }
   ],
   "source": [
    "cur.execute('''SELECT p.park, round(avg(t.elevation_gain), 2) as average_elevation_gain\n",
    "               FROM trails t\n",
    "               JOIN parks p \n",
    "               ON t.park_id = p.id\n",
    "               WHERE p.park LIKE '%Mountain%'\n",
    "               GROUP BY p.park\n",
    "               ORDER BY avg(t.elevation_gain) DESC;''')\n",
    "for row in cur:\n",
    "    print(row['park'], row['average_elevation_gain'])"
   ]
  },
  {
   "cell_type": "markdown",
   "id": "civil-philadelphia",
   "metadata": {},
   "source": [
    "<h4>Question 3</h4>\n",
    "<p>There are three types of trails in the database. How many of each type of trail is there in Yosemite National Park?</p>"
   ]
  },
  {
   "cell_type": "code",
   "execution_count": 64,
   "id": "corporate-softball",
   "metadata": {},
   "outputs": [
    {
     "name": "stdout",
     "output_type": "stream",
     "text": [
      "There are 135 out and back trails\n",
      "There are 65 loop trails\n",
      "There are 42 point to point trails\n"
     ]
    }
   ],
   "source": [
    "cur.execute('''SELECT r.route_type, count(1) as num_trails\n",
    "               FROM trails t\n",
    "               JOIN route_types r\n",
    "               ON t.route_type_id = r.id\n",
    "               JOIN parks p \n",
    "               ON t.park_id = p.id\n",
    "               WHERE p.park = \"Yosemite\"\n",
    "               GROUP BY r.route_type;''')\n",
    "\n",
    "for row in cur:\n",
    "    print(f\"There are {row['num_trails']} {row['route_type']} trails\")"
   ]
  },
  {
   "cell_type": "markdown",
   "id": "insured-personality",
   "metadata": {},
   "source": [
    "<h4>Question 4</h4>\n",
    "<p>Alaska has the most national parks out of any state. What are the 5 most popular trails in national parks located in Alaska? </p>"
   ]
  },
  {
   "cell_type": "code",
   "execution_count": 10,
   "id": "optional-enlargement",
   "metadata": {},
   "outputs": [
    {
     "name": "stdout",
     "output_type": "stream",
     "text": [
      "Trail: Harding Ice Field Trail\n",
      "Park: Kenai Fjords\n",
      "Popularity Rating 24.8931\n",
      "\n",
      "Trail: Mount Healy Overlook Trail\n",
      "Park: Denali\n",
      "Popularity Rating 18.0311\n",
      "\n",
      "Trail: Exit Glacier Trail\n",
      "Park: Kenai Fjords\n",
      "Popularity Rating 17.7821\n",
      "\n",
      "Trail: Horseshoe Lake Trail\n",
      "Park: Denali\n",
      "Popularity Rating 16.2674\n",
      "\n",
      "Trail: Triple Lakes Trail\n",
      "Park: Denali\n",
      "Popularity Rating 12.5935\n",
      "\n"
     ]
    }
   ],
   "source": [
    "cur.execute('''SELECT p.park, t.name, t.popularity\n",
    "               FROM trails t\n",
    "               JOIN parks p \n",
    "               ON t.park_id = p.id\n",
    "               JOIN states s\n",
    "               ON t.state_id = s.id\n",
    "               WHERE s.state_name = 'Alaska'\n",
    "               ORDER BY t.popularity DESC\n",
    "               LIMIT 5;''')\n",
    "for row in cur:\n",
    "    print(f\"Trail: {row['name']}\\nPark: {row['park']}\\nPopularity Rating {row['popularity']}\\n\")"
   ]
  },
  {
   "cell_type": "markdown",
   "id": "continuing-redhead",
   "metadata": {},
   "source": [
    "<h4>Question 5</h4>\n",
    "<p>How many trails are in Yellowstone National Park? </p>"
   ]
  },
  {
   "cell_type": "code",
   "execution_count": 11,
   "id": "utility-aviation",
   "metadata": {},
   "outputs": [
    {
     "name": "stdout",
     "output_type": "stream",
     "text": [
      "Number of trails in Yellowstone National Park: 228\n"
     ]
    }
   ],
   "source": [
    "cur.execute('''SELECT count(1) AS number_of_trails\n",
    "               FROM trails t\n",
    "               JOIN parks p \n",
    "               ON t.park_id = p.id\n",
    "               WHERE p.park = 'Yellowstone';''')\n",
    "\n",
    "\n",
    "for row in cur:\n",
    "    print(f\"Number of trails in Yellowstone National Park: {row['number_of_trails']}\")"
   ]
  },
  {
   "cell_type": "markdown",
   "id": "bottom-invitation",
   "metadata": {},
   "source": [
    "<h4>Question 6</h4>\n",
    "<p>Return a list of 5 random trails that are in the contiguous U.S. and have less than 500 feet in elevation gain. </p>"
   ]
  },
  {
   "cell_type": "code",
   "execution_count": 15,
   "id": "built-dairy",
   "metadata": {},
   "outputs": [
    {
     "name": "stdout",
     "output_type": "stream",
     "text": [
      "Trail: Gould Mine\n",
      "Park: Saguaro\n",
      "Elevation Gain In Yards: 115.824\n",
      "\n",
      "Trail: Many Pools Trail\n",
      "Park: Zion\n",
      "Elevation Gain In Yards: 165.8112\n",
      "\n",
      "Trail: Point Sublime Trail\n",
      "Park: Yellowstone\n",
      "Elevation Gain In Yards: 103.9368\n",
      "\n",
      "Trail: Fountain Paint Pot Trail\n",
      "Park: Yellowstone\n",
      "Elevation Gain In Yards: 6.7056\n",
      "\n",
      "Trail: The Beehive Loop Trail\n",
      "Park: Acadia\n",
      "Elevation Gain In Yards: 148.7424\n",
      "\n"
     ]
    }
   ],
   "source": [
    "cur.execute('''SELECT p.park, t.name, t.elevation_gain\n",
    "               FROM trails t\n",
    "               JOIN parks p \n",
    "               ON t.park_id = p.id\n",
    "               JOIN states s \n",
    "               ON t.state_id = s.id\n",
    "               WHERE s.state_name NOT IN ('Alaska', 'Hawaii')\n",
    "                     AND t.elevation_gain < (500/3)\n",
    "               ORDER BY RAND()\n",
    "               LIMIT 5;''')\n",
    "\n",
    "\n",
    "for row in cur:\n",
    "    print(f\"Trail: {row['name']}\\nPark: {row['park']}\\nElevation Gain In Yards: {row['elevation_gain']}\\n\")"
   ]
  },
  {
   "cell_type": "markdown",
   "id": "joined-triumph",
   "metadata": {},
   "source": [
    "<h4>Question 7</h4>\n",
    "<p>Which national park has the most trails with the maximum difficulty rating?  </p>"
   ]
  },
  {
   "cell_type": "code",
   "execution_count": 34,
   "id": "valuable-methodology",
   "metadata": {},
   "outputs": [
    {
     "name": "stdout",
     "output_type": "stream",
     "text": [
      "Yosemite National Park has 25 parks with the maximum difficulty rating\n"
     ]
    }
   ],
   "source": [
    "cur.execute('''SELECT p.park, count(1) AS num_parks\n",
    "               FROM trails t \n",
    "               JOIN parks p \n",
    "               ON t.park_id = p.id\n",
    "               WHERE t.difficulty_rating = \n",
    "                (SELECT max(difficulty_rating) FROM trails t)\n",
    "               GROUP BY p.park\n",
    "               ORDER BY 2 DESC\n",
    "               LIMIT 1;''')\n",
    "\n",
    "\n",
    "for row in cur:\n",
    "    print(f\"{row['park']} National Park has {row['num_parks']} parks with the maximum difficulty rating\")"
   ]
  },
  {
   "cell_type": "markdown",
   "id": "prompt-bankruptcy",
   "metadata": {},
   "source": [
    "<h4>Question 8</h4>\n",
    "<p>What trails have high average visitor ratings (4.5 or higher) but have the lowerst visitor usage rating</p>"
   ]
  },
  {
   "cell_type": "code",
   "execution_count": 42,
   "id": "exterior-nirvana",
   "metadata": {},
   "outputs": [
    {
     "name": "stdout",
     "output_type": "stream",
     "text": [
      "Firebrand Trail to Ole Creek in Glacier\n",
      "Average Rating: 4.5\n",
      "\n",
      "Lawn Lake Trail in Rocky Mountain\n",
      "Average Rating: 4.5\n",
      "\n",
      "West Creek Falls and Fox Creek Falls Trail in Rocky Mountain\n",
      "Average Rating: 4.5\n",
      "\n",
      "Appalachian Trail: Clingman Dome to Cades Cove in Great Smoky Mountains\n",
      "Average Rating: 4.5\n",
      "\n",
      "Lake Solitude via Lake Solitude and Cascade Canyon Trail in Grand Teton\n",
      "Average Rating: 5.0\n",
      "\n",
      "Baskins Creek Trail and Baskins Creek Falls in Great Smoky Mountains\n",
      "Average Rating: 4.5\n",
      "\n",
      "Hole-in-the-Wall Trail in Olympic\n",
      "Average Rating: 4.5\n",
      "\n",
      "Black Bay Beaver Pond Trail in Voyageurs\n",
      "Average Rating: 5.0\n",
      "\n",
      "Bumpass Hell from Kohm Yah-mah-nee visitor center in Lassen Volcanic\n",
      "Average Rating: 5.0\n",
      "\n",
      "Lobo Canyon Trail in Channel Islands\n",
      "Average Rating: 4.5\n",
      "\n",
      "Green River Great Overlook in Canyonlands\n",
      "Average Rating: 4.5\n",
      "\n",
      "Piegan Pass Trail in Glacier\n",
      "Average Rating: 4.5\n",
      "\n",
      "Little Rock Lake via Ute Trail and Mount Ida Trail in Rocky Mountain\n",
      "Average Rating: 4.5\n",
      "\n",
      "Pleasant Creek Trail in Capitol Reef\n",
      "Average Rating: 4.5\n",
      "\n",
      "Shelf Canyon Trail in Zion\n",
      "Average Rating: 4.5\n",
      "\n",
      "Waterwheel Falls and Glen Aulin Trail in Yosemite\n",
      "Average Rating: 4.5\n",
      "\n",
      "Heart Lake and the Two Ocean Plateau Loop Trail in Yellowstone\n",
      "Average Rating: 5.0\n",
      "\n",
      "South Bass to Hermits Rest via Tonto West in Grand Canyon\n",
      "Average Rating: 5.0\n",
      "\n",
      "Mansel, Bernard and Beach Mountain Loop in Acadia\n",
      "Average Rating: 4.5\n",
      "\n",
      "Gem Trail to Balanced Rock in Rocky Mountain\n",
      "Average Rating: 4.5\n",
      "\n"
     ]
    }
   ],
   "source": [
    "cur.execute('''SELECT t.name, p.park, t.avg_rating, t.visitor_usage\n",
    "                FROM trails t \n",
    "                JOIN parks p\n",
    "                ON t.park_id = p.id\n",
    "                WHERE t.avg_rating >= 4.5 \n",
    "                      AND t.visitor_usage = \n",
    "                      (SELECT min(visitor_usage) FROM trails)\n",
    "                ORDER BY rand()\n",
    "                LIMIT 20;''')\n",
    "\n",
    "for row in cur:\n",
    "    print(f'''{row['name']} in {row['park']}\\nAverage Rating: {row['avg_rating']}\\n''')"
   ]
  },
  {
   "cell_type": "markdown",
   "id": "julian-vocabulary",
   "metadata": {},
   "source": [
    "<h4>Question 9</h4>\n",
    "<p>What are the 10 most unpopular trails among the 5 most popular national parks</p>\n",
    "</br>\n",
    "<p><b>Note:</b> there are many ways to interpret popularity. Any solution that uses fairly logical criteria to operationalize popularity and appropriately justifies their answers should receive full credit for that component of the problem.</p>\n",
    "</br>"
   ]
  },
  {
   "cell_type": "code",
   "execution_count": 62,
   "id": "treated-stephen",
   "metadata": {},
   "outputs": [
    {
     "name": "stdout",
     "output_type": "stream",
     "text": [
      "Exit Glacier Trail in Kenai Fjords\n",
      "Popularity Rating: 17.7821\n",
      "\n",
      "Harding Ice Field Trail in Kenai Fjords\n",
      "Popularity Rating: 24.8931\n",
      "\n",
      "Pipiwai Trail and Waimoku Falls in Haleakala\n",
      "Popularity Rating: 33.3147\n",
      "\n",
      "Haleakala Crater Trail in Haleakala\n",
      "Popularity Rating: 13.5643\n",
      "\n",
      "Sliding Sands Trail in Haleakala\n",
      "Popularity Rating: 23.5557\n",
      "\n",
      "Halemau'u Haleakala Overlook Trail in Haleakala\n",
      "Popularity Rating: 15.8383\n",
      "\n",
      "Leleiwi Overlook Trail in Haleakala\n",
      "Popularity Rating: 10.5442\n",
      "\n",
      "Pa ka'oao Trail (White Hill Trail) in Haleakala\n",
      "Popularity Rating: 9.5362\n",
      "\n",
      "Keonehe'ehe'e Trail in Haleakala\n",
      "Popularity Rating: 9.1555\n",
      "\n",
      "Silversword Loop Via Halemau'u Trail in Haleakala\n",
      "Popularity Rating: 9.3861\n",
      "\n"
     ]
    }
   ],
   "source": [
    "# IN PROGRESS\n",
    "cur.execute('''SELECT t.name, p.park, t.popularity\n",
    "               FROM trails t \n",
    "               JOIN parks p\n",
    "               ON t.park_id = p.id\n",
    "               WHERE t.park_id IN \n",
    "                 (SELECT * FROM \n",
    "                     (SELECT t.park_id\n",
    "                      FROM trails t\n",
    "                      GROUP BY t.park_id\n",
    "                      ORDER BY AVG(t.popularity) DESC\n",
    "                      LIMIT 5) temp)\n",
    "                ORDER BY p.park DESC\n",
    "                LIMIT 10''')\n",
    "\n",
    "\n",
    "for row in cur: \n",
    "    print(f\"{row['name']} in {row['park']}\\nPopularity Rating: {row['popularity']}\\n\")"
   ]
  },
  {
   "cell_type": "markdown",
   "id": "placed-floating",
   "metadata": {},
   "source": [
    "<h4>Question 10</h4>\n",
    "<p>Give me a list of trails and the parks they're located in that have high difficulty ratings (greater than or equal ot 5), but are very popular with visitors</p>"
   ]
  },
  {
   "cell_type": "code",
   "execution_count": 67,
   "id": "dirty-service",
   "metadata": {},
   "outputs": [
    {
     "name": "stdout",
     "output_type": "stream",
     "text": [
      "Merced Lake High Sierra Camp Trail in Yosemite National Park\n",
      "Visitor Usage: 4.0\n",
      "Difficulty Rating : 5\n",
      "\n",
      "Alum Cave Trail to Mount LeConte in Great Smoky Mountains National Park\n",
      "Visitor Usage: 4.0\n",
      "Difficulty Rating : 5\n",
      "\n",
      "Chimney Tops Trail in Great Smoky Mountains National Park\n",
      "Visitor Usage: 4.0\n",
      "Difficulty Rating : 5\n",
      "\n",
      "Angels Landing Trail in Zion National Park\n",
      "Visitor Usage: 4.0\n",
      "Difficulty Rating : 5\n",
      "\n",
      "Old Rag Mountain Loop in Shenandoah National Park\n",
      "Visitor Usage: 4.0\n",
      "Difficulty Rating : 5\n",
      "\n",
      "Lena Lake Trail to Upper Lena Lake Trail in Olympic National Park\n",
      "Visitor Usage: 4.0\n",
      "Difficulty Rating : 5\n",
      "\n"
     ]
    }
   ],
   "source": [
    "cur.execute('''SELECT t.name, p.park, t.difficulty_rating, t.visitor_usage\n",
    "               FROM trails t \n",
    "               JOIN parks p \n",
    "               ON t.park_id = p.id\n",
    "               WHERE t.difficulty_rating >= 5\n",
    "               AND t.visitor_usage =  \n",
    "                   (SELECT max(visitor_usage) FROM trails)''')\n",
    "\n",
    "for row in cur:\n",
    "    print(f\"{row['name']} in {row['park']} National Park\\nVisitor Usage: {row['visitor_usage']}\\nDifficulty Rating : {row['difficulty_rating']}\\n\")\n",
    "    \n",
    "    \n",
    "    "
   ]
  },
  {
   "cell_type": "code",
   "execution_count": null,
   "id": "reduced-hollywood",
   "metadata": {},
   "outputs": [],
   "source": []
  }
 ],
 "metadata": {
  "kernelspec": {
   "display_name": "Python 3",
   "language": "python",
   "name": "python3"
  },
  "language_info": {
   "codemirror_mode": {
    "name": "ipython",
    "version": 3
   },
   "file_extension": ".py",
   "mimetype": "text/x-python",
   "name": "python",
   "nbconvert_exporter": "python",
   "pygments_lexer": "ipython3",
   "version": "3.8.3"
  }
 },
 "nbformat": 4,
 "nbformat_minor": 5
}
