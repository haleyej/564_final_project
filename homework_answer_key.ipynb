{
 "cells": [
  {
   "cell_type": "markdown",
   "id": "imposed-paraguay",
   "metadata": {},
   "source": [
    "<h1>SI 564 Final Project: Trails in U.S. National Parks</h1>\n",
    "<p>Haley Johnson</p>\n",
    "\n",
    "<p>Solution key to homework assignment. I used starter code from <a href = \"https://gist.github.com/mlhess/be7841fda8baba5645f6aad807b50083\">here</a> to connect to SQL</p>"
   ]
  },
  {
   "cell_type": "code",
   "execution_count": 1,
   "id": "useful-owner",
   "metadata": {},
   "outputs": [],
   "source": [
    "import os\n",
    "import pymysql\n",
    "import pandas as pd"
   ]
  },
  {
   "cell_type": "code",
   "execution_count": 2,
   "id": "radical-peninsula",
   "metadata": {},
   "outputs": [],
   "source": [
    "con = pymysql.connect(host='34.134.16.183', port=14192,user='haleyej-ro',password=p,database='nat_parks',cursorclass=pymysql.cursors.DictCursor)  \n",
    "cur = con.cursor()"
   ]
  },
  {
   "cell_type": "markdown",
   "id": "associate-climate",
   "metadata": {},
   "source": [
    "<h4>Question 1</h4>\n",
    "<p>What national park has the longest trail length, on average?</p>"
   ]
  },
  {
   "cell_type": "code",
   "execution_count": 3,
   "id": "spanish-incentive",
   "metadata": {},
   "outputs": [
    {
     "name": "stdout",
     "output_type": "stream",
     "text": [
      "Kings Canyon 38162.46\n"
     ]
    }
   ],
   "source": [
    "cur.execute('''SELECT p.park, round(avg(t.length), 2) as average_length\n",
    "               FROM trails t\n",
    "               JOIN parks p \n",
    "               ON t.park_id = p.id\n",
    "               GROUP BY p.park\n",
    "               ORDER BY avg(t.length) DESC\n",
    "               LIMIT 1;''')\n",
    "for row in cur:\n",
    "    print(row['park'], row['average_length'])"
   ]
  },
  {
   "cell_type": "markdown",
   "id": "mineral-waterproof",
   "metadata": {},
   "source": [
    "<h4>Question 2</h4>\n",
    "<p>What is the average elevation gain of trails that are in national parks where ‘Mountain,’ ‘Mt.’ or any variation of Mountain is in the park's name? </p>"
   ]
  },
  {
   "cell_type": "code",
   "execution_count": 4,
   "id": "fitted-pharmacy",
   "metadata": {},
   "outputs": [
    {
     "name": "stdout",
     "output_type": "stream",
     "text": [
      "Great Smoky Mountains 848.22\n",
      "Guadalupe Mountains 735.5\n",
      "Rocky Mountain 590.13\n"
     ]
    }
   ],
   "source": [
    "cur.execute('''SELECT p.park, round(avg(t.elevation_gain), 2) as average_elevation_gain\n",
    "               FROM trails t\n",
    "               JOIN parks p \n",
    "               ON t.park_id = p.id\n",
    "               WHERE p.park LIKE '%Mountain%'\n",
    "               GROUP BY p.park\n",
    "               ORDER BY avg(t.elevation_gain) DESC;''')\n",
    "for row in cur:\n",
    "    print(row['park'], row['average_elevation_gain'])"
   ]
  },
  {
   "cell_type": "markdown",
   "id": "dental-federation",
   "metadata": {},
   "source": [
    "<h4>Question 3</h4>\n",
    "<p>What is the most popular trail in each national park?</p>"
   ]
  },
  {
   "cell_type": "code",
   "execution_count": 5,
   "id": "restricted-shore",
   "metadata": {},
   "outputs": [
    {
     "ename": "OperationalError",
     "evalue": "(1109, \"Unknown table 'p' in field list\")",
     "output_type": "error",
     "traceback": [
      "\u001b[0;31m---------------------------------------------------------------------------\u001b[0m",
      "\u001b[0;31mOperationalError\u001b[0m                          Traceback (most recent call last)",
      "\u001b[0;32m<ipython-input-5-009e267a4cf1>\u001b[0m in \u001b[0;36m<module>\u001b[0;34m\u001b[0m\n\u001b[0;32m----> 1\u001b[0;31m \u001b[0mcur\u001b[0m\u001b[0;34m.\u001b[0m\u001b[0mexecute\u001b[0m\u001b[0;34m(\u001b[0m\u001b[0;34m'''SELECT p.park, t.name'''\u001b[0m\u001b[0;34m)\u001b[0m\u001b[0;34m\u001b[0m\u001b[0;34m\u001b[0m\u001b[0m\n\u001b[0m",
      "\u001b[0;32m~/opt/anaconda3/lib/python3.8/site-packages/pymysql/cursors.py\u001b[0m in \u001b[0;36mexecute\u001b[0;34m(self, query, args)\u001b[0m\n\u001b[1;32m    146\u001b[0m         \u001b[0mquery\u001b[0m \u001b[0;34m=\u001b[0m \u001b[0mself\u001b[0m\u001b[0;34m.\u001b[0m\u001b[0mmogrify\u001b[0m\u001b[0;34m(\u001b[0m\u001b[0mquery\u001b[0m\u001b[0;34m,\u001b[0m \u001b[0margs\u001b[0m\u001b[0;34m)\u001b[0m\u001b[0;34m\u001b[0m\u001b[0;34m\u001b[0m\u001b[0m\n\u001b[1;32m    147\u001b[0m \u001b[0;34m\u001b[0m\u001b[0m\n\u001b[0;32m--> 148\u001b[0;31m         \u001b[0mresult\u001b[0m \u001b[0;34m=\u001b[0m \u001b[0mself\u001b[0m\u001b[0;34m.\u001b[0m\u001b[0m_query\u001b[0m\u001b[0;34m(\u001b[0m\u001b[0mquery\u001b[0m\u001b[0;34m)\u001b[0m\u001b[0;34m\u001b[0m\u001b[0;34m\u001b[0m\u001b[0m\n\u001b[0m\u001b[1;32m    149\u001b[0m         \u001b[0mself\u001b[0m\u001b[0;34m.\u001b[0m\u001b[0m_executed\u001b[0m \u001b[0;34m=\u001b[0m \u001b[0mquery\u001b[0m\u001b[0;34m\u001b[0m\u001b[0;34m\u001b[0m\u001b[0m\n\u001b[1;32m    150\u001b[0m         \u001b[0;32mreturn\u001b[0m \u001b[0mresult\u001b[0m\u001b[0;34m\u001b[0m\u001b[0;34m\u001b[0m\u001b[0m\n",
      "\u001b[0;32m~/opt/anaconda3/lib/python3.8/site-packages/pymysql/cursors.py\u001b[0m in \u001b[0;36m_query\u001b[0;34m(self, q)\u001b[0m\n\u001b[1;32m    308\u001b[0m         \u001b[0mself\u001b[0m\u001b[0;34m.\u001b[0m\u001b[0m_last_executed\u001b[0m \u001b[0;34m=\u001b[0m \u001b[0mq\u001b[0m\u001b[0;34m\u001b[0m\u001b[0;34m\u001b[0m\u001b[0m\n\u001b[1;32m    309\u001b[0m         \u001b[0mself\u001b[0m\u001b[0;34m.\u001b[0m\u001b[0m_clear_result\u001b[0m\u001b[0;34m(\u001b[0m\u001b[0;34m)\u001b[0m\u001b[0;34m\u001b[0m\u001b[0;34m\u001b[0m\u001b[0m\n\u001b[0;32m--> 310\u001b[0;31m         \u001b[0mconn\u001b[0m\u001b[0;34m.\u001b[0m\u001b[0mquery\u001b[0m\u001b[0;34m(\u001b[0m\u001b[0mq\u001b[0m\u001b[0;34m)\u001b[0m\u001b[0;34m\u001b[0m\u001b[0;34m\u001b[0m\u001b[0m\n\u001b[0m\u001b[1;32m    311\u001b[0m         \u001b[0mself\u001b[0m\u001b[0;34m.\u001b[0m\u001b[0m_do_get_result\u001b[0m\u001b[0;34m(\u001b[0m\u001b[0;34m)\u001b[0m\u001b[0;34m\u001b[0m\u001b[0;34m\u001b[0m\u001b[0m\n\u001b[1;32m    312\u001b[0m         \u001b[0;32mreturn\u001b[0m \u001b[0mself\u001b[0m\u001b[0;34m.\u001b[0m\u001b[0mrowcount\u001b[0m\u001b[0;34m\u001b[0m\u001b[0;34m\u001b[0m\u001b[0m\n",
      "\u001b[0;32m~/opt/anaconda3/lib/python3.8/site-packages/pymysql/connections.py\u001b[0m in \u001b[0;36mquery\u001b[0;34m(self, sql, unbuffered)\u001b[0m\n\u001b[1;32m    546\u001b[0m             \u001b[0msql\u001b[0m \u001b[0;34m=\u001b[0m \u001b[0msql\u001b[0m\u001b[0;34m.\u001b[0m\u001b[0mencode\u001b[0m\u001b[0;34m(\u001b[0m\u001b[0mself\u001b[0m\u001b[0;34m.\u001b[0m\u001b[0mencoding\u001b[0m\u001b[0;34m,\u001b[0m \u001b[0;34m\"surrogateescape\"\u001b[0m\u001b[0;34m)\u001b[0m\u001b[0;34m\u001b[0m\u001b[0;34m\u001b[0m\u001b[0m\n\u001b[1;32m    547\u001b[0m         \u001b[0mself\u001b[0m\u001b[0;34m.\u001b[0m\u001b[0m_execute_command\u001b[0m\u001b[0;34m(\u001b[0m\u001b[0mCOMMAND\u001b[0m\u001b[0;34m.\u001b[0m\u001b[0mCOM_QUERY\u001b[0m\u001b[0;34m,\u001b[0m \u001b[0msql\u001b[0m\u001b[0;34m)\u001b[0m\u001b[0;34m\u001b[0m\u001b[0;34m\u001b[0m\u001b[0m\n\u001b[0;32m--> 548\u001b[0;31m         \u001b[0mself\u001b[0m\u001b[0;34m.\u001b[0m\u001b[0m_affected_rows\u001b[0m \u001b[0;34m=\u001b[0m \u001b[0mself\u001b[0m\u001b[0;34m.\u001b[0m\u001b[0m_read_query_result\u001b[0m\u001b[0;34m(\u001b[0m\u001b[0munbuffered\u001b[0m\u001b[0;34m=\u001b[0m\u001b[0munbuffered\u001b[0m\u001b[0;34m)\u001b[0m\u001b[0;34m\u001b[0m\u001b[0;34m\u001b[0m\u001b[0m\n\u001b[0m\u001b[1;32m    549\u001b[0m         \u001b[0;32mreturn\u001b[0m \u001b[0mself\u001b[0m\u001b[0;34m.\u001b[0m\u001b[0m_affected_rows\u001b[0m\u001b[0;34m\u001b[0m\u001b[0;34m\u001b[0m\u001b[0m\n\u001b[1;32m    550\u001b[0m \u001b[0;34m\u001b[0m\u001b[0m\n",
      "\u001b[0;32m~/opt/anaconda3/lib/python3.8/site-packages/pymysql/connections.py\u001b[0m in \u001b[0;36m_read_query_result\u001b[0;34m(self, unbuffered)\u001b[0m\n\u001b[1;32m    773\u001b[0m         \u001b[0;32melse\u001b[0m\u001b[0;34m:\u001b[0m\u001b[0;34m\u001b[0m\u001b[0;34m\u001b[0m\u001b[0m\n\u001b[1;32m    774\u001b[0m             \u001b[0mresult\u001b[0m \u001b[0;34m=\u001b[0m \u001b[0mMySQLResult\u001b[0m\u001b[0;34m(\u001b[0m\u001b[0mself\u001b[0m\u001b[0;34m)\u001b[0m\u001b[0;34m\u001b[0m\u001b[0;34m\u001b[0m\u001b[0m\n\u001b[0;32m--> 775\u001b[0;31m             \u001b[0mresult\u001b[0m\u001b[0;34m.\u001b[0m\u001b[0mread\u001b[0m\u001b[0;34m(\u001b[0m\u001b[0;34m)\u001b[0m\u001b[0;34m\u001b[0m\u001b[0;34m\u001b[0m\u001b[0m\n\u001b[0m\u001b[1;32m    776\u001b[0m         \u001b[0mself\u001b[0m\u001b[0;34m.\u001b[0m\u001b[0m_result\u001b[0m \u001b[0;34m=\u001b[0m \u001b[0mresult\u001b[0m\u001b[0;34m\u001b[0m\u001b[0;34m\u001b[0m\u001b[0m\n\u001b[1;32m    777\u001b[0m         \u001b[0;32mif\u001b[0m \u001b[0mresult\u001b[0m\u001b[0;34m.\u001b[0m\u001b[0mserver_status\u001b[0m \u001b[0;32mis\u001b[0m \u001b[0;32mnot\u001b[0m \u001b[0;32mNone\u001b[0m\u001b[0;34m:\u001b[0m\u001b[0;34m\u001b[0m\u001b[0;34m\u001b[0m\u001b[0m\n",
      "\u001b[0;32m~/opt/anaconda3/lib/python3.8/site-packages/pymysql/connections.py\u001b[0m in \u001b[0;36mread\u001b[0;34m(self)\u001b[0m\n\u001b[1;32m   1154\u001b[0m     \u001b[0;32mdef\u001b[0m \u001b[0mread\u001b[0m\u001b[0;34m(\u001b[0m\u001b[0mself\u001b[0m\u001b[0;34m)\u001b[0m\u001b[0;34m:\u001b[0m\u001b[0;34m\u001b[0m\u001b[0;34m\u001b[0m\u001b[0m\n\u001b[1;32m   1155\u001b[0m         \u001b[0;32mtry\u001b[0m\u001b[0;34m:\u001b[0m\u001b[0;34m\u001b[0m\u001b[0;34m\u001b[0m\u001b[0m\n\u001b[0;32m-> 1156\u001b[0;31m             \u001b[0mfirst_packet\u001b[0m \u001b[0;34m=\u001b[0m \u001b[0mself\u001b[0m\u001b[0;34m.\u001b[0m\u001b[0mconnection\u001b[0m\u001b[0;34m.\u001b[0m\u001b[0m_read_packet\u001b[0m\u001b[0;34m(\u001b[0m\u001b[0;34m)\u001b[0m\u001b[0;34m\u001b[0m\u001b[0;34m\u001b[0m\u001b[0m\n\u001b[0m\u001b[1;32m   1157\u001b[0m \u001b[0;34m\u001b[0m\u001b[0m\n\u001b[1;32m   1158\u001b[0m             \u001b[0;32mif\u001b[0m \u001b[0mfirst_packet\u001b[0m\u001b[0;34m.\u001b[0m\u001b[0mis_ok_packet\u001b[0m\u001b[0;34m(\u001b[0m\u001b[0;34m)\u001b[0m\u001b[0;34m:\u001b[0m\u001b[0;34m\u001b[0m\u001b[0;34m\u001b[0m\u001b[0m\n",
      "\u001b[0;32m~/opt/anaconda3/lib/python3.8/site-packages/pymysql/connections.py\u001b[0m in \u001b[0;36m_read_packet\u001b[0;34m(self, packet_type)\u001b[0m\n\u001b[1;32m    723\u001b[0m             \u001b[0;32mif\u001b[0m \u001b[0mself\u001b[0m\u001b[0;34m.\u001b[0m\u001b[0m_result\u001b[0m \u001b[0;32mis\u001b[0m \u001b[0;32mnot\u001b[0m \u001b[0;32mNone\u001b[0m \u001b[0;32mand\u001b[0m \u001b[0mself\u001b[0m\u001b[0;34m.\u001b[0m\u001b[0m_result\u001b[0m\u001b[0;34m.\u001b[0m\u001b[0munbuffered_active\u001b[0m \u001b[0;32mis\u001b[0m \u001b[0;32mTrue\u001b[0m\u001b[0;34m:\u001b[0m\u001b[0;34m\u001b[0m\u001b[0;34m\u001b[0m\u001b[0m\n\u001b[1;32m    724\u001b[0m                 \u001b[0mself\u001b[0m\u001b[0;34m.\u001b[0m\u001b[0m_result\u001b[0m\u001b[0;34m.\u001b[0m\u001b[0munbuffered_active\u001b[0m \u001b[0;34m=\u001b[0m \u001b[0;32mFalse\u001b[0m\u001b[0;34m\u001b[0m\u001b[0;34m\u001b[0m\u001b[0m\n\u001b[0;32m--> 725\u001b[0;31m             \u001b[0mpacket\u001b[0m\u001b[0;34m.\u001b[0m\u001b[0mraise_for_error\u001b[0m\u001b[0;34m(\u001b[0m\u001b[0;34m)\u001b[0m\u001b[0;34m\u001b[0m\u001b[0;34m\u001b[0m\u001b[0m\n\u001b[0m\u001b[1;32m    726\u001b[0m         \u001b[0;32mreturn\u001b[0m \u001b[0mpacket\u001b[0m\u001b[0;34m\u001b[0m\u001b[0;34m\u001b[0m\u001b[0m\n\u001b[1;32m    727\u001b[0m \u001b[0;34m\u001b[0m\u001b[0m\n",
      "\u001b[0;32m~/opt/anaconda3/lib/python3.8/site-packages/pymysql/protocol.py\u001b[0m in \u001b[0;36mraise_for_error\u001b[0;34m(self)\u001b[0m\n\u001b[1;32m    219\u001b[0m         \u001b[0;32mif\u001b[0m \u001b[0mDEBUG\u001b[0m\u001b[0;34m:\u001b[0m\u001b[0;34m\u001b[0m\u001b[0;34m\u001b[0m\u001b[0m\n\u001b[1;32m    220\u001b[0m             \u001b[0mprint\u001b[0m\u001b[0;34m(\u001b[0m\u001b[0;34m\"errno =\"\u001b[0m\u001b[0;34m,\u001b[0m \u001b[0merrno\u001b[0m\u001b[0;34m)\u001b[0m\u001b[0;34m\u001b[0m\u001b[0;34m\u001b[0m\u001b[0m\n\u001b[0;32m--> 221\u001b[0;31m         \u001b[0merr\u001b[0m\u001b[0;34m.\u001b[0m\u001b[0mraise_mysql_exception\u001b[0m\u001b[0;34m(\u001b[0m\u001b[0mself\u001b[0m\u001b[0;34m.\u001b[0m\u001b[0m_data\u001b[0m\u001b[0;34m)\u001b[0m\u001b[0;34m\u001b[0m\u001b[0;34m\u001b[0m\u001b[0m\n\u001b[0m\u001b[1;32m    222\u001b[0m \u001b[0;34m\u001b[0m\u001b[0m\n\u001b[1;32m    223\u001b[0m     \u001b[0;32mdef\u001b[0m \u001b[0mdump\u001b[0m\u001b[0;34m(\u001b[0m\u001b[0mself\u001b[0m\u001b[0;34m)\u001b[0m\u001b[0;34m:\u001b[0m\u001b[0;34m\u001b[0m\u001b[0;34m\u001b[0m\u001b[0m\n",
      "\u001b[0;32m~/opt/anaconda3/lib/python3.8/site-packages/pymysql/err.py\u001b[0m in \u001b[0;36mraise_mysql_exception\u001b[0;34m(data)\u001b[0m\n\u001b[1;32m    141\u001b[0m     \u001b[0;32mif\u001b[0m \u001b[0merrorclass\u001b[0m \u001b[0;32mis\u001b[0m \u001b[0;32mNone\u001b[0m\u001b[0;34m:\u001b[0m\u001b[0;34m\u001b[0m\u001b[0;34m\u001b[0m\u001b[0m\n\u001b[1;32m    142\u001b[0m         \u001b[0merrorclass\u001b[0m \u001b[0;34m=\u001b[0m \u001b[0mInternalError\u001b[0m \u001b[0;32mif\u001b[0m \u001b[0merrno\u001b[0m \u001b[0;34m<\u001b[0m \u001b[0;36m1000\u001b[0m \u001b[0;32melse\u001b[0m \u001b[0mOperationalError\u001b[0m\u001b[0;34m\u001b[0m\u001b[0;34m\u001b[0m\u001b[0m\n\u001b[0;32m--> 143\u001b[0;31m     \u001b[0;32mraise\u001b[0m \u001b[0merrorclass\u001b[0m\u001b[0;34m(\u001b[0m\u001b[0merrno\u001b[0m\u001b[0;34m,\u001b[0m \u001b[0merrval\u001b[0m\u001b[0;34m)\u001b[0m\u001b[0;34m\u001b[0m\u001b[0;34m\u001b[0m\u001b[0m\n\u001b[0m",
      "\u001b[0;31mOperationalError\u001b[0m: (1109, \"Unknown table 'p' in field list\")"
     ]
    }
   ],
   "source": [
    "cur.execute('''SELECT p.park, t.name''')"
   ]
  },
  {
   "cell_type": "markdown",
   "id": "occupied-depth",
   "metadata": {},
   "source": [
    "<h4>Question 4</h4>\n",
    "<p>Alaska has the most national parks out of any state. What are the 5 most popular trails in national parks located in Alaska? </p>"
   ]
  },
  {
   "cell_type": "code",
   "execution_count": 10,
   "id": "confirmed-sampling",
   "metadata": {},
   "outputs": [
    {
     "name": "stdout",
     "output_type": "stream",
     "text": [
      "Trail: Harding Ice Field Trail\n",
      "Park: Kenai Fjords\n",
      "Popularity Rating 24.8931\n",
      "\n",
      "Trail: Mount Healy Overlook Trail\n",
      "Park: Denali\n",
      "Popularity Rating 18.0311\n",
      "\n",
      "Trail: Exit Glacier Trail\n",
      "Park: Kenai Fjords\n",
      "Popularity Rating 17.7821\n",
      "\n",
      "Trail: Horseshoe Lake Trail\n",
      "Park: Denali\n",
      "Popularity Rating 16.2674\n",
      "\n",
      "Trail: Triple Lakes Trail\n",
      "Park: Denali\n",
      "Popularity Rating 12.5935\n",
      "\n"
     ]
    }
   ],
   "source": [
    "cur.execute('''SELECT p.park, t.name, t.popularity\n",
    "               FROM trails t\n",
    "               JOIN parks p \n",
    "               ON t.park_id = p.id\n",
    "               JOIN states s\n",
    "               ON t.state_id = s.id\n",
    "               WHERE s.state_name = 'Alaska'\n",
    "               ORDER BY t.popularity DESC\n",
    "               LIMIT 5;''')\n",
    "for row in cur:\n",
    "    print(f\"Trail: {row['name']}\\nPark: {row['park']}\\nPopularity Rating {row['popularity']}\\n\")"
   ]
  },
  {
   "cell_type": "markdown",
   "id": "registered-number",
   "metadata": {},
   "source": [
    "<h4>Question 5</h4>\n",
    "<p>How many trails are in Yellowstone National Park? </p>"
   ]
  },
  {
   "cell_type": "code",
   "execution_count": 11,
   "id": "million-netherlands",
   "metadata": {},
   "outputs": [
    {
     "name": "stdout",
     "output_type": "stream",
     "text": [
      "Number of trails in Yellowstone National Park: 228\n"
     ]
    }
   ],
   "source": [
    "cur.execute('''SELECT count(1) AS number_of_trails\n",
    "               FROM trails t\n",
    "               JOIN parks p \n",
    "               ON t.park_id = p.id\n",
    "               WHERE p.park = 'Yellowstone';''')\n",
    "\n",
    "\n",
    "for row in cur:\n",
    "    print(f\"Number of trails in Yellowstone National Park: {row['number_of_trails']}\")"
   ]
  },
  {
   "cell_type": "markdown",
   "id": "smaller-linux",
   "metadata": {},
   "source": [
    "<h4>Question 6</h4>\n",
    "<p>Return a list of 5 random trails that are in the contiguous U.S. and have less than 500 feet in elevation gain. </p>"
   ]
  },
  {
   "cell_type": "code",
   "execution_count": 15,
   "id": "devoted-contribution",
   "metadata": {},
   "outputs": [
    {
     "name": "stdout",
     "output_type": "stream",
     "text": [
      "Trail: Gould Mine\n",
      "Park: Saguaro\n",
      "Elevation Gain In Yards: 115.824\n",
      "\n",
      "Trail: Many Pools Trail\n",
      "Park: Zion\n",
      "Elevation Gain In Yards: 165.8112\n",
      "\n",
      "Trail: Point Sublime Trail\n",
      "Park: Yellowstone\n",
      "Elevation Gain In Yards: 103.9368\n",
      "\n",
      "Trail: Fountain Paint Pot Trail\n",
      "Park: Yellowstone\n",
      "Elevation Gain In Yards: 6.7056\n",
      "\n",
      "Trail: The Beehive Loop Trail\n",
      "Park: Acadia\n",
      "Elevation Gain In Yards: 148.7424\n",
      "\n"
     ]
    }
   ],
   "source": [
    "cur.execute('''SELECT p.park, t.name, t.elevation_gain\n",
    "               FROM trails t\n",
    "               JOIN parks p \n",
    "               ON t.park_id = p.id\n",
    "               JOIN states s \n",
    "               ON t.state_id = s.id\n",
    "               WHERE s.state_name NOT IN ('Alaska', 'Hawaii')\n",
    "                     AND t.elevation_gain < (500/3)\n",
    "               ORDER BY RAND()\n",
    "               LIMIT 5;''')\n",
    "\n",
    "\n",
    "for row in cur:\n",
    "    print(f\"Trail: {row['name']}\\nPark: {row['park']}\\nElevation Gain In Yards: {row['elevation_gain']}\\n\")"
   ]
  },
  {
   "cell_type": "markdown",
   "id": "colonial-closure",
   "metadata": {},
   "source": [
    "<h4>Question 7</h4>\n",
    "<p>Which national park has the most trails with the maximum difficulty rating?  </p>"
   ]
  },
  {
   "cell_type": "code",
   "execution_count": 34,
   "id": "peaceful-mystery",
   "metadata": {},
   "outputs": [
    {
     "name": "stdout",
     "output_type": "stream",
     "text": [
      "Yosemite National Park has 25 parks with the maximum difficulty rating\n"
     ]
    }
   ],
   "source": [
    "cur.execute('''SELECT p.park, count(1) AS num_parks\n",
    "               FROM trails t \n",
    "               JOIN parks p \n",
    "               ON t.park_id = p.id\n",
    "               WHERE t.difficulty_rating = \n",
    "                (SELECT max(difficulty_rating) FROM trails t)\n",
    "               GROUP BY p.park\n",
    "               ORDER BY 2 DESC\n",
    "               LIMIT 1;''')\n",
    "\n",
    "\n",
    "for row in cur:\n",
    "    print(f\"{row['park']} National Park has {row['num_parks']} parks with the maximum difficulty rating\")"
   ]
  },
  {
   "cell_type": "markdown",
   "id": "transparent-population",
   "metadata": {},
   "source": [
    "<h4>Question 8</h4>\n",
    "<p>What trails have high average visitor ratings (4.5 or higher) but have the lowerst visitor usage rating</p>"
   ]
  },
  {
   "cell_type": "code",
   "execution_count": 42,
   "id": "minor-floating",
   "metadata": {},
   "outputs": [
    {
     "name": "stdout",
     "output_type": "stream",
     "text": [
      "Firebrand Trail to Ole Creek in Glacier\n",
      "Average Rating: 4.5\n",
      "\n",
      "Lawn Lake Trail in Rocky Mountain\n",
      "Average Rating: 4.5\n",
      "\n",
      "West Creek Falls and Fox Creek Falls Trail in Rocky Mountain\n",
      "Average Rating: 4.5\n",
      "\n",
      "Appalachian Trail: Clingman Dome to Cades Cove in Great Smoky Mountains\n",
      "Average Rating: 4.5\n",
      "\n",
      "Lake Solitude via Lake Solitude and Cascade Canyon Trail in Grand Teton\n",
      "Average Rating: 5.0\n",
      "\n",
      "Baskins Creek Trail and Baskins Creek Falls in Great Smoky Mountains\n",
      "Average Rating: 4.5\n",
      "\n",
      "Hole-in-the-Wall Trail in Olympic\n",
      "Average Rating: 4.5\n",
      "\n",
      "Black Bay Beaver Pond Trail in Voyageurs\n",
      "Average Rating: 5.0\n",
      "\n",
      "Bumpass Hell from Kohm Yah-mah-nee visitor center in Lassen Volcanic\n",
      "Average Rating: 5.0\n",
      "\n",
      "Lobo Canyon Trail in Channel Islands\n",
      "Average Rating: 4.5\n",
      "\n",
      "Green River Great Overlook in Canyonlands\n",
      "Average Rating: 4.5\n",
      "\n",
      "Piegan Pass Trail in Glacier\n",
      "Average Rating: 4.5\n",
      "\n",
      "Little Rock Lake via Ute Trail and Mount Ida Trail in Rocky Mountain\n",
      "Average Rating: 4.5\n",
      "\n",
      "Pleasant Creek Trail in Capitol Reef\n",
      "Average Rating: 4.5\n",
      "\n",
      "Shelf Canyon Trail in Zion\n",
      "Average Rating: 4.5\n",
      "\n",
      "Waterwheel Falls and Glen Aulin Trail in Yosemite\n",
      "Average Rating: 4.5\n",
      "\n",
      "Heart Lake and the Two Ocean Plateau Loop Trail in Yellowstone\n",
      "Average Rating: 5.0\n",
      "\n",
      "South Bass to Hermits Rest via Tonto West in Grand Canyon\n",
      "Average Rating: 5.0\n",
      "\n",
      "Mansel, Bernard and Beach Mountain Loop in Acadia\n",
      "Average Rating: 4.5\n",
      "\n",
      "Gem Trail to Balanced Rock in Rocky Mountain\n",
      "Average Rating: 4.5\n",
      "\n"
     ]
    }
   ],
   "source": [
    "cur.execute('''SELECT t.name, p.park, t.avg_rating, t.visitor_usage\n",
    "                FROM trails t \n",
    "                JOIN parks p\n",
    "                ON t.park_id = p.id\n",
    "                WHERE t.avg_rating >= 4.5 \n",
    "                      AND t.visitor_usage = \n",
    "                      (SELECT min(visitor_usage) FROM trails)\n",
    "                ORDER BY rand()\n",
    "                LIMIT 20;''')\n",
    "\n",
    "for row in cur:\n",
    "    print(f'''{row['name']} in {row['park']}\\nAverage Rating: {row['avg_rating']}\\n''')"
   ]
  },
  {
   "cell_type": "markdown",
   "id": "charitable-legislature",
   "metadata": {},
   "source": [
    "<h4>Question 9</h4>\n",
    "<p>What are the 5 most unpopular trails in the 5 most popular national parks</p>\n",
    "</br>\n",
    "<p><b>Note:</b> there are many ways to interpret popularity. Any solution that uses fairly logical criteria to operationalize popularity and appropriately justifies their answers should receive full credit for that component of the problem.</p>"
   ]
  },
  {
   "cell_type": "code",
   "execution_count": 44,
   "id": "contained-nepal",
   "metadata": {},
   "outputs": [
    {
     "name": "stdout",
     "output_type": "stream",
     "text": [
      "{'park_id': 0}\n",
      "{'park_id': 48}\n",
      "{'park_id': 59}\n",
      "{'park_id': 47}\n",
      "{'park_id': 42}\n"
     ]
    }
   ],
   "source": [
    "cur.execute('''SELECT t.name, t.\n",
    "\n",
    "\n",
    "               (SELECT t.park_id\n",
    "                FROM trails t\n",
    "                GROUP BY t.park_id\n",
    "                ORDER BY AVG(t.popularity) DESC\n",
    "                LIMIT 5)''')"
   ]
  },
  {
   "cell_type": "code",
   "execution_count": null,
   "id": "protected-north",
   "metadata": {},
   "outputs": [],
   "source": []
  }
 ],
 "metadata": {
  "kernelspec": {
   "display_name": "Python 3",
   "language": "python",
   "name": "python3"
  },
  "language_info": {
   "codemirror_mode": {
    "name": "ipython",
    "version": 3
   },
   "file_extension": ".py",
   "mimetype": "text/x-python",
   "name": "python",
   "nbconvert_exporter": "python",
   "pygments_lexer": "ipython3",
   "version": "3.8.3"
  }
 },
 "nbformat": 4,
 "nbformat_minor": 5
}
