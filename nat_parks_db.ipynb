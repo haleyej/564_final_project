{
 "cells": [
  {
   "cell_type": "markdown",
   "id": "confident-presence",
   "metadata": {},
   "source": [
    "<h1>SI 564 Final Project: Trails in U.S. National Parks</h1>\n",
    "<p>Haley Johnson</p>"
   ]
  },
  {
   "cell_type": "code",
   "execution_count": 1,
   "id": "under-biotechnology",
   "metadata": {},
   "outputs": [],
   "source": [
    "import pandas as pd\n",
    "import pymysql\n",
    "from sqlalchemy import create_engine \n",
    "from IPython.display import Image"
   ]
  },
  {
   "attachments": {},
   "cell_type": "markdown",
   "id": "becoming-skiing",
   "metadata": {},
   "source": [
    "<h2>Database Diagram</h2>\n",
    "<p><a href = \"https://www.kaggle.com/datasets/planejane/national-park-trails\">National Parks data</a></p>"
   ]
  },
  {
   "cell_type": "code",
   "execution_count": 2,
   "id": "inclusive-oxide",
   "metadata": {},
   "outputs": [
    {
     "data": {
      "text/html": [
       "<img src=\"nat_parks_erd.png\" width=\"800\" height=\"800\"/>"
      ],
      "text/plain": [
       "<IPython.core.display.Image object>"
      ]
     },
     "execution_count": 2,
     "metadata": {},
     "output_type": "execute_result"
    }
   ],
   "source": [
    "Image(url=\"nat_parks_erd.png\", width=800, height=800)"
   ]
  },
  {
   "cell_type": "markdown",
   "id": "identical-sense",
   "metadata": {},
   "source": [
    "<h2>Split Data Into Tables</h2>"
   ]
  },
  {
   "cell_type": "code",
   "execution_count": 3,
   "id": "beginning-claim",
   "metadata": {},
   "outputs": [],
   "source": [
    "df = pd.read_csv(\"trails_data.csv\")"
   ]
  },
  {
   "cell_type": "code",
   "execution_count": 4,
   "id": "intense-jackson",
   "metadata": {},
   "outputs": [],
   "source": [
    "df = df.drop(columns = ['trail_id', 'city_name', 'country_name', '_geoloc', 'features', 'activities'])"
   ]
  },
  {
   "cell_type": "code",
   "execution_count": null,
   "id": "large-shift",
   "metadata": {},
   "outputs": [],
   "source": [
    "df['area_name'] = df['area_name'].str.replace(\" National Park\", \"\")"
   ]
  },
  {
   "cell_type": "code",
   "execution_count": 14,
   "id": "august-reducing",
   "metadata": {},
   "outputs": [],
   "source": [
    "def create_table(df, col):\n",
    "    temp = df[col].unique()\n",
    "    df = pd.DataFrame(temp, columns = [col])\n",
    "    df = df.reset_index()\n",
    "    df = df.rename(columns = {'index': 'id'})\n",
    "    return df\n",
    "    "
   ]
  },
  {
   "cell_type": "code",
   "execution_count": 17,
   "id": "foster-baseline",
   "metadata": {},
   "outputs": [],
   "source": [
    "parks_df = create_table(df, 'area_name')\n",
    "states_df = create_table(df, 'state_name')\n",
    "routes_df = create_table(df, 'route_type')"
   ]
  },
  {
   "cell_type": "code",
   "execution_count": 31,
   "id": "personal-mississippi",
   "metadata": {},
   "outputs": [],
   "source": [
    "# METRICS ROWS\n",
    "# elevation gain in METERS\n",
    "# length in METERS\n",
    "\n",
    "# IMPERIAL ROWS\n",
    "# elevation gain in FEET\n",
    "# length in YARDS / meters ?? "
   ]
  },
  {
   "cell_type": "markdown",
   "id": "sharp-boring",
   "metadata": {},
   "source": [
    "<h3>Trails Table</h3>"
   ]
  },
  {
   "cell_type": "code",
   "execution_count": 32,
   "id": "established-schedule",
   "metadata": {},
   "outputs": [],
   "source": [
    "metric = df[df['units'] == 'm']\n",
    "imperial = df[df['units'] == 'i']"
   ]
  },
  {
   "cell_type": "code",
   "execution_count": 33,
   "id": "cooked-banana",
   "metadata": {},
   "outputs": [],
   "source": [
    "def meters_to_yards(s):\n",
    "    '''\n",
    "    Takes in column of dataframe \n",
    "    \n",
    "    Converts metric units to imperial ones\n",
    "    '''\n",
    "    return s * 1.09361\n",
    "    "
   ]
  },
  {
   "cell_type": "code",
   "execution_count": 34,
   "id": "eastern-flesh",
   "metadata": {},
   "outputs": [
    {
     "name": "stderr",
     "output_type": "stream",
     "text": [
      "<ipython-input-34-5803d4a6adb9>:1: SettingWithCopyWarning: \n",
      "A value is trying to be set on a copy of a slice from a DataFrame.\n",
      "Try using .loc[row_indexer,col_indexer] = value instead\n",
      "\n",
      "See the caveats in the documentation: https://pandas.pydata.org/pandas-docs/stable/user_guide/indexing.html#returning-a-view-versus-a-copy\n",
      "  metric['elevation_gain'] = metric['elevation_gain'].apply(meters_to_yards)\n",
      "<ipython-input-34-5803d4a6adb9>:2: SettingWithCopyWarning: \n",
      "A value is trying to be set on a copy of a slice from a DataFrame.\n",
      "Try using .loc[row_indexer,col_indexer] = value instead\n",
      "\n",
      "See the caveats in the documentation: https://pandas.pydata.org/pandas-docs/stable/user_guide/indexing.html#returning-a-view-versus-a-copy\n",
      "  metric['length'] = metric['length'].apply(meters_to_yards)\n"
     ]
    }
   ],
   "source": [
    "metric['elevation_gain'] = metric['elevation_gain'].apply(meters_to_yards)\n",
    "metric['length'] = metric['length'].apply(meters_to_yards)"
   ]
  },
  {
   "cell_type": "code",
   "execution_count": 38,
   "id": "retained-sunrise",
   "metadata": {},
   "outputs": [],
   "source": [
    "df = pd.concat([imperial, metric])"
   ]
  },
  {
   "cell_type": "markdown",
   "id": "fantastic-membrane",
   "metadata": {},
   "source": [
    "<h3>Parks Table</h3>"
   ]
  },
  {
   "cell_type": "code",
   "execution_count": 20,
   "id": "alpha-quantity",
   "metadata": {},
   "outputs": [],
   "source": [
    "parks_df['area_name'] = parks_df['area_name'].str.replace(\" National Park\", \"\")"
   ]
  },
  {
   "cell_type": "markdown",
   "id": "related-hurricane",
   "metadata": {},
   "source": [
    "<h3>States Table</h3>"
   ]
  },
  {
   "cell_type": "markdown",
   "id": "eastern-willow",
   "metadata": {},
   "source": [
    "<h3>Route Types Table</h3>"
   ]
  },
  {
   "cell_type": "markdown",
   "id": "involved-membership",
   "metadata": {},
   "source": [
    "<h2>Normalize</h2>"
   ]
  },
  {
   "cell_type": "markdown",
   "id": "bulgarian-bleeding",
   "metadata": {},
   "source": [
    "<h2>Write To SQL</h2>"
   ]
  },
  {
   "cell_type": "code",
   "execution_count": null,
   "id": "consolidated-anthropology",
   "metadata": {},
   "outputs": [],
   "source": [
    "df.to_sql(\"table\",con=engine)"
   ]
  }
 ],
 "metadata": {
  "kernelspec": {
   "display_name": "Python 3",
   "language": "python",
   "name": "python3"
  },
  "language_info": {
   "codemirror_mode": {
    "name": "ipython",
    "version": 3
   },
   "file_extension": ".py",
   "mimetype": "text/x-python",
   "name": "python",
   "nbconvert_exporter": "python",
   "pygments_lexer": "ipython3",
   "version": "3.8.3"
  }
 },
 "nbformat": 4,
 "nbformat_minor": 5
}
