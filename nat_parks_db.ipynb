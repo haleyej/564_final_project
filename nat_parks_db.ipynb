{
 "cells": [
  {
   "cell_type": "markdown",
   "id": "positive-equation",
   "metadata": {},
   "source": [
    "<h1>SI 564 Final Project: Trails in U.S. National Parks</h1>\n",
    "<p>Haley Johnson</p>"
   ]
  },
  {
   "cell_type": "code",
   "execution_count": 1,
   "id": "adaptive-greene",
   "metadata": {},
   "outputs": [],
   "source": [
    "import pandas as pd\n",
    "import pymysql\n",
    "from sqlalchemy import create_engine "
   ]
  },
  {
   "cell_type": "code",
   "execution_count": null,
   "id": "democratic-empty",
   "metadata": {},
   "outputs": [],
   "source": [
    "#engine = create_engine('mysql+pymysql://<username>:<passsword>@<host>:<port>/<db>')\n",
    "\n",
    "df = pd.read_sql(\"select * from fitbit_sleep\", con=engine)"
   ]
  },
  {
   "cell_type": "code",
   "execution_count": null,
   "id": "frequent-tanzania",
   "metadata": {},
   "outputs": [],
   "source": [
    "df.to_sql(\"table\",con=engine)"
   ]
  }
 ],
 "metadata": {
  "kernelspec": {
   "display_name": "Python 3",
   "language": "python",
   "name": "python3"
  },
  "language_info": {
   "codemirror_mode": {
    "name": "ipython",
    "version": 3
   },
   "file_extension": ".py",
   "mimetype": "text/x-python",
   "name": "python",
   "nbconvert_exporter": "python",
   "pygments_lexer": "ipython3",
   "version": "3.8.3"
  }
 },
 "nbformat": 4,
 "nbformat_minor": 5
}
